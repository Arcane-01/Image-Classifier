{
  "nbformat": 4,
  "nbformat_minor": 0,
  "metadata": {
    "colab": {
      "name": "MNIST(Pytorch1).ipynb",
      "provenance": []
    },
    "kernelspec": {
      "name": "python3",
      "display_name": "Python 3"
    },
    "language_info": {
      "name": "python"
    }
  },
  "cells": [
    {
      "cell_type": "code",
      "metadata": {
        "id": "aeVRZvSp3Hnq"
      },
      "source": [
        "import torch\n",
        "import torch.nn as nn\n",
        "import torchvision\n",
        "import torchvision.transforms as transforms\n",
        "import matplotlib.pyplot as plt"
      ],
      "execution_count": null,
      "outputs": []
    },
    {
      "cell_type": "code",
      "metadata": {
        "id": "wnyXMh9jRY09"
      },
      "source": [
        "# Hyper-parameters \n",
        "input_size = 784 # 28x28\n",
        "hidden_size = 512 \n",
        "num_classes = 10\n",
        "num_epochs = 10\n",
        "batch_size = 128\n",
        "learning_rate = 0.001\n",
        "momentum = 0.5"
      ],
      "execution_count": null,
      "outputs": []
    },
    {
      "cell_type": "code",
      "metadata": {
        "colab": {
          "base_uri": "https://localhost:8080/",
          "height": 53
        },
        "id": "NYgVJuLGPodY",
        "outputId": "e2924e86-8731-4155-b928-010b7275818c"
      },
      "source": [
        "#Loading the MNIST dataset\n",
        "train_dataset = torchvision.datasets.MNIST(root='./data',train=True,transform = transforms.ToTensor(),download=True)\n",
        "\n",
        "test_dataset = torchvision.datasets.MNIST(root='./data',train=False,transform = transforms.ToTensor())\n",
        "\n",
        "train_loader = torch.utils.data.DataLoader(dataset=train_dataset,batch_size=batch_size,shuffle = True)\n",
        "\n",
        "test_loader = torch.utils.data.DataLoader(dataset=test_dataset,batch_size=batch_size,shuffle = False)\n",
        "\n",
        "examples = iter(train_loader)\n",
        "samples, labels = examples.next()\n",
        "print(samples.shape,labels.shape)\n",
        "\"\"\"\n",
        "for i in range(6):\n",
        "  plt.subplot(2,3,i+1)\n",
        "  plt.imshow(samples[i][0],cmap = 'gray')\n",
        "\n",
        "plt.show()\"\"\""
      ],
      "execution_count": null,
      "outputs": [
        {
          "output_type": "stream",
          "name": "stdout",
          "text": [
            "torch.Size([128, 1, 28, 28]) torch.Size([128])\n"
          ]
        },
        {
          "output_type": "execute_result",
          "data": {
            "application/vnd.google.colaboratory.intrinsic+json": {
              "type": "string"
            },
            "text/plain": [
              "\"\\nfor i in range(6):\\n  plt.subplot(2,3,i+1)\\n  plt.imshow(samples[i][0],cmap = 'gray')\\n\\nplt.show()\""
            ]
          },
          "metadata": {},
          "execution_count": 202
        }
      ]
    },
    {
      "cell_type": "code",
      "metadata": {
        "id": "NGx85GiiUI88"
      },
      "source": [
        "class NeuralNet(nn.Module):\n",
        "  def __init__(self, input_size, hidden_size, num_classes):\n",
        "    super(NeuralNet, self).__init__()\n",
        "    self.l1 = nn.Linear(input_size, hidden_size)\n",
        "    self.relu = nn.ReLU()\n",
        "    self.l2 = nn.Linear(hidden_size, num_classes)\n",
        "  \n",
        "  def forward(self, x): #one sample x\n",
        "    out = self.l1(x)\n",
        "    out = self.relu(out)\n",
        "    out = self.l2(out)\n",
        "    return out"
      ],
      "execution_count": null,
      "outputs": []
    },
    {
      "cell_type": "code",
      "metadata": {
        "id": "ebLh1BCHZSzI"
      },
      "source": [
        "model = NeuralNet(input_size, hidden_size, num_classes)"
      ],
      "execution_count": null,
      "outputs": []
    },
    {
      "cell_type": "code",
      "metadata": {
        "id": "MdekgXLVZa43"
      },
      "source": [
        "#loss and optimizer\n",
        "criterion = nn.CrossEntropyLoss()\n",
        "optimizer = torch.optim.Adam(model.parameters(), lr = learning_rate)\n",
        "#optimizer = optim.SGD(network.parameters(), lr=learning_rate, momentum=momentum)  #SGD"
      ],
      "execution_count": null,
      "outputs": []
    },
    {
      "cell_type": "code",
      "metadata": {
        "id": "0lCMU7PiPUtD"
      },
      "source": [
        "train_losses = []\n",
        "train_counter = []\n",
        "test_losses = []"
      ],
      "execution_count": null,
      "outputs": []
    },
    {
      "cell_type": "code",
      "metadata": {
        "colab": {
          "base_uri": "https://localhost:8080/"
        },
        "id": "2VDifb24bVgF",
        "outputId": "ebf7ab8a-f7ef-479d-9e6f-06d504122e4a"
      },
      "source": [
        "#training loop\n",
        "n_total_steps = len(train_loader)\n",
        "for epoch in range(num_epochs):\n",
        "\n",
        "  for i, (images, labels) in enumerate(train_loader): #enumerate function gives the actual index\n",
        "    images = images.reshape(-1, 28*28)\n",
        "  \n",
        "    #forward pass\n",
        "    outputs = model(images)\n",
        "    loss = criterion(outputs, labels)\n",
        "    train_losses.append(loss.item())\n",
        "    #backward pass\n",
        "    optimizer.zero_grad()\n",
        "    loss.backward()\n",
        "    optimizer.step()\n",
        "\n",
        "    if (i+1) % 128 == 0:\n",
        "      print(f'Train Epoch: {epoch+1}/{num_epochs}, step{i+1}/{n_total_steps}, loss ={loss.item():.4f}')"
      ],
      "execution_count": null,
      "outputs": [
        {
          "output_type": "stream",
          "name": "stdout",
          "text": [
            "Train Epoch: 1/10, step128/469, loss =0.1551\n",
            "Train Epoch: 1/10, step256/469, loss =0.3284\n",
            "Train Epoch: 1/10, step384/469, loss =0.3133\n",
            "Train Epoch: 2/10, step128/469, loss =0.1017\n",
            "Train Epoch: 2/10, step256/469, loss =0.1531\n",
            "Train Epoch: 2/10, step384/469, loss =0.0836\n",
            "Train Epoch: 3/10, step128/469, loss =0.0579\n",
            "Train Epoch: 3/10, step256/469, loss =0.1245\n",
            "Train Epoch: 3/10, step384/469, loss =0.1484\n",
            "Train Epoch: 4/10, step128/469, loss =0.0217\n",
            "Train Epoch: 4/10, step256/469, loss =0.0812\n",
            "Train Epoch: 4/10, step384/469, loss =0.0642\n",
            "Train Epoch: 5/10, step128/469, loss =0.0187\n",
            "Train Epoch: 5/10, step256/469, loss =0.0625\n",
            "Train Epoch: 5/10, step384/469, loss =0.0286\n",
            "Train Epoch: 6/10, step128/469, loss =0.0330\n",
            "Train Epoch: 6/10, step256/469, loss =0.0537\n",
            "Train Epoch: 6/10, step384/469, loss =0.0561\n",
            "Train Epoch: 7/10, step128/469, loss =0.0149\n",
            "Train Epoch: 7/10, step256/469, loss =0.0181\n",
            "Train Epoch: 7/10, step384/469, loss =0.0084\n",
            "Train Epoch: 8/10, step128/469, loss =0.0207\n",
            "Train Epoch: 8/10, step256/469, loss =0.0041\n",
            "Train Epoch: 8/10, step384/469, loss =0.0067\n",
            "Train Epoch: 9/10, step128/469, loss =0.0048\n",
            "Train Epoch: 9/10, step256/469, loss =0.0318\n",
            "Train Epoch: 9/10, step384/469, loss =0.0102\n",
            "Train Epoch: 10/10, step128/469, loss =0.0133\n",
            "Train Epoch: 10/10, step256/469, loss =0.0100\n",
            "Train Epoch: 10/10, step384/469, loss =0.0094\n"
          ]
        }
      ]
    },
    {
      "cell_type": "code",
      "metadata": {
        "colab": {
          "base_uri": "https://localhost:8080/"
        },
        "id": "rl_YP3H9P_rT",
        "outputId": "f93dd68f-35d6-48af-9863-e1927b334fd5"
      },
      "source": [
        "#For reference\n",
        "#test\n",
        "def test(): \n",
        "  with torch.no_grad():\n",
        "    n_correct = 0\n",
        "    n_samples = 0\n",
        "    for images, labels in test_loader:\n",
        "      images = images.reshape(-1, 28*28)\n",
        "      outputs = model(images)\n",
        "\n",
        "      _,predictions = torch.max(outputs, 1) #torch.max function will return the value and the index and we are interested in the actual index\n",
        "      n_samples += labels.shape[0]\n",
        "      n_correct += (predictions == labels).sum().item()\n",
        "  \n",
        "    acc = 100* n_correct / n_samples\n",
        "    print(f'Test accuracy = {acc:.4f}')\n",
        "\n",
        "def train(): \n",
        "  with torch.no_grad():\n",
        "    n_correct = 0\n",
        "    n_samples = 0\n",
        "    for images, labels in train_loader:\n",
        "      images = images.reshape(-1, 28*28)\n",
        "      outputs = model(images)\n",
        "\n",
        "      _,predictions = torch.max(outputs, 1) #torch.max function will return the value and the index and we are interested in the actual index\n",
        "      n_samples += labels.shape[0]\n",
        "      n_correct += (predictions == labels).sum().item()\n",
        "  \n",
        "    acc = 100* n_correct / n_samples\n",
        "    print(f'Training accuracy = {acc:.4f}')\n",
        "\n",
        "train()\n",
        "test()"
      ],
      "execution_count": null,
      "outputs": [
        {
          "output_type": "stream",
          "name": "stdout",
          "text": [
            "Training accuracy = 99.8917\n",
            "Test accuracy = 98.1300\n"
          ]
        }
      ]
    },
    {
      "cell_type": "code",
      "metadata": {
        "colab": {
          "base_uri": "https://localhost:8080/",
          "height": 312
        },
        "id": "-gAyTF2SSCVV",
        "outputId": "37c76f07-996b-423d-d4ef-4d206b2c7bea"
      },
      "source": [
        "plt.plot(train_losses)\n",
        "plt.xlabel(\"iterations\")\n",
        "plt.ylabel(\"Loss\")\n",
        "plt.title(\"Training set\")"
      ],
      "execution_count": null,
      "outputs": [
        {
          "output_type": "execute_result",
          "data": {
            "text/plain": [
              "Text(0.5, 1.0, 'Training set')"
            ]
          },
          "metadata": {},
          "execution_count": 211
        },
        {
          "output_type": "display_data",
          "data": {
            "image/png": "[encoded data removed]",
            "text/plain": [
              "<Figure size 432x288 with 1 Axes>"
            ]
          },
          "metadata": {
            "needs_background": "light"
          }
        }
      ]
    }
  ]
}